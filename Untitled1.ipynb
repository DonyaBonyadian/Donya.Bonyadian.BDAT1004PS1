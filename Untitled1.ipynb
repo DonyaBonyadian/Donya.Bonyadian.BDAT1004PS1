{
 "cells": [
  {
   "cell_type": "markdown",
   "id": "5981242a",
   "metadata": {},
   "source": [
    "# Question1\n",
    "\n",
    "The data types are:"
   ]
  },
  {
   "cell_type": "code",
   "execution_count": null,
   "id": "8dd76444",
   "metadata": {},
   "outputs": [],
   "source": [
    "a.Integer\n",
    "b.Float ,                    it has zero after dot(5.0),so it is decimal\n",
    "c.Boolean ,                  5 is greater that 1 ,so it is true\n",
    "d.string\n",
    "f.mathematical expression\n",
    "g.string,                     output is 55\n",
    "h.string ,                    output is 52\n",
    "i.mathematical expressio      result:2.5\n",
    "j.algebric expression,        remainder:1\n",
    "k.set\n",
    "l.Boolean,                     result:False\n",
    "m.float                        3.1415....    "
   ]
  },
  {
   "cell_type": "markdown",
   "id": "111271eb",
   "metadata": {},
   "source": [
    "# Question 2\n",
    "\n",
    " Python expression"
   ]
  },
  {
   "cell_type": "code",
   "execution_count": 12,
   "id": "84b8f717",
   "metadata": {
    "scrolled": true
   },
   "outputs": [
    {
     "name": "stdout",
     "output_type": "stream",
     "text": [
      "string-length :  34\n"
     ]
    }
   ],
   "source": [
    "string='Supercalifragilisticexpialidocious'\n",
    "print(\"string-length : \",len(string))\n",
    "\n",
    "\n"
   ]
  },
  {
   "cell_type": "code",
   "execution_count": 13,
   "id": "143c3a74",
   "metadata": {
    "scrolled": true
   },
   "outputs": [
    {
     "name": "stdout",
     "output_type": "stream",
     "text": [
      "True\n"
     ]
    }
   ],
   "source": [
    "string='Supercalifragilisticexpialidocious'\n",
    "substring='ice'\n",
    "x=substring in string\n",
    "print(x)"
   ]
  },
  {
   "cell_type": "code",
   "execution_count": 44,
   "id": "433d04d9",
   "metadata": {},
   "outputs": [
    {
     "name": "stdout",
     "output_type": "stream",
     "text": [
      "Supercalifragilisticexpialidocious\n"
     ]
    }
   ],
   "source": [
    "list=['Supercalifragilisticexpialidocious', 'Honorificabilitudinitatibus','Bababadalgharaghtakamminarronnkonn']\n",
    "print (max(list,key=len))"
   ]
  },
  {
   "cell_type": "code",
   "execution_count": 52,
   "id": "719c3d1b",
   "metadata": {},
   "outputs": [
    {
     "name": "stdout",
     "output_type": "stream",
     "text": [
      "first composer:Bartok\n",
      "last composer:Buxtehude\n"
     ]
    }
   ],
   "source": [
    "composers=['Berlioz', 'Borodin', 'Brian',\n",
    "'Bartok', 'Bellini', 'Buxtehude', 'Bernstein']\n",
    "composers.sort()\n",
    "firstcomposer=composers[0]\n",
    "lastcomposer=composers[-1]\n",
    "print(f\"first composer:{firstcomposer}\")\n",
    "print(f\"last composer:{lastcomposer}\")\n"
   ]
  },
  {
   "cell_type": "markdown",
   "id": "e903005d",
   "metadata": {},
   "source": [
    "# Question3\n",
    "\n",
    "TriangleArea\n"
   ]
  },
  {
   "cell_type": "code",
   "execution_count": 182,
   "id": "5af62fb2",
   "metadata": {},
   "outputs": [
    {
     "name": "stdout",
     "output_type": "stream",
     "text": [
      "Enter the length of first side:2\n",
      "Enter the length of second side:2\n",
      "Enter the length of third side:2\n",
      "1.7320508075688772\n"
     ]
    }
   ],
   "source": [
    "a=float(input('Enter the length of first side:'))\n",
    "b=float(input('Enter the length of second side:'))\n",
    "c=float(input('Enter the length of third side:'))\n",
    "s=(a+b+c)/2\n",
    "import math\n",
    "print(math.sqrt(s*(s-a)*(s-b)*(s-c)))\n"
   ]
  },
  {
   "cell_type": "markdown",
   "id": "aa454813",
   "metadata": {},
   "source": [
    "# question4\n",
    "Seprate odd and even integers in seprate arrays"
   ]
  },
  {
   "cell_type": "code",
   "execution_count": 262,
   "id": "6152c442",
   "metadata": {},
   "outputs": [
    {
     "name": "stdout",
     "output_type": "stream",
     "text": [
      "Input the number of elements to be stored in the array: 5\n",
      "Input 5 elements in the array:\n",
      "element - 0 : 25\n",
      "element - 1 : 47\n",
      "element - 2 : 42\n",
      "element - 3 : 56\n",
      "element - 4 : 32\n",
      "the Even Numbers are:\n",
      "42 56 32\n",
      "the Odd Numbers are:\n",
      "25 47\n"
     ]
    }
   ],
   "source": [
    "x= int(input(\"Input the number of elements to be stored in the array: \"))\n",
    "even_numbers = []\n",
    "odd_numbers = []\n",
    "print(\"Input\",x, \"elements in the array:\")\n",
    "for i in range(x):\n",
    "    element = int(input(f\"element - {i} : \"))\n",
    "    if element % 2 == 0:\n",
    "        even_numbers.append(element)\n",
    "    else:\n",
    "        odd_numbers.append(element)\n",
    "        \n",
    "print(\"the Even Numbers are:\")\n",
    "print(\" \".join(map(str, even_numbers)))\n",
    "\n",
    "print(\"the Odd Numbers are:\")\n",
    "print(\" \".join(map(str, odd_numbers)))\n",
    "   "
   ]
  },
  {
   "cell_type": "markdown",
   "id": "1147faf1",
   "metadata": {},
   "source": [
    "# Question5\n",
    "\n",
    "Return true or false"
   ]
  },
  {
   "cell_type": "code",
   "execution_count": 294,
   "id": "382ecb3c",
   "metadata": {},
   "outputs": [
    {
     "name": "stdout",
     "output_type": "stream",
     "text": [
      "inside(1,1,0,0,2,3): True\n",
      "inside(-1,-1,0,0,2,3): False\n"
     ]
    }
   ],
   "source": [
    "def inside(x,y,x1,y1,x2,y2) :\n",
    "return x1<=x<=x2 and y1<=y<=y2\n",
    "print(\"inside(1,1,0,0,2,3):\" ,inside(1,1,0,0,2,3))\n",
    "print(\"inside(-1,-1,0,0,2,3):\",inside(-1,-1,0,0,2,3))\n",
    "   \n",
    "   "
   ]
  },
  {
   "cell_type": "markdown",
   "id": "e1fe1971",
   "metadata": {},
   "source": [
    "# Question6\n",
    "\n",
    "Turn a word into pig-Latin"
   ]
  },
  {
   "cell_type": "code",
   "execution_count": 246,
   "id": "d1f0e9c6",
   "metadata": {},
   "outputs": [
    {
     "name": "stdout",
     "output_type": "stream",
     "text": [
      "appyhay\n",
      "enterway\n"
     ]
    }
   ],
   "source": [
    "def pig(word):\n",
    "    word = word.lower()\n",
    "\n",
    "    if word[0] in 'uieoa':\n",
    "       \n",
    "        return word + 'way'\n",
    "    else:\n",
    "        \n",
    "        consonants = []\n",
    "        i = 0\n",
    "        while i < len(word) and word[i] not in 'aeiou':\n",
    "            consonants.append(word[i])\n",
    "            i += 1\n",
    "        return word[i:] + ''.join(consonants) + 'ay'\n",
    "\n",
    "print(pig('happy')) \n",
    "print(pig('Enter'))"
   ]
  },
  {
   "cell_type": "markdown",
   "id": "5bb93dd7",
   "metadata": {},
   "source": [
    "# Question7\n",
    "\n",
    "Bloodtype\n"
   ]
  },
  {
   "cell_type": "code",
   "execution_count": 293,
   "id": "a476a5f9",
   "metadata": {},
   "outputs": [],
   "source": [
    "\n",
    "def bldcount(bloodtype1):\n",
    "    bldcount('/user/donyabonyadian/bloodtype1.txt')\n",
    "   \n",
    "    blood_type_counts = {'A': 0, 'B': 0, 'AB': 0, 'O': 0, 'OO': 0}\n",
    "\n",
    "   \n",
    "    with open(bloodtype1, 'r') as file:\n",
    "        \n",
    "        for line in file:\n",
    "           \n",
    "            line = line.strip()\n",
    "            \n",
    "            \n",
    "            if line in blood_type_counts:\n",
    "               \n",
    "                blood_type_counts[line] += 1\n",
    "    \n",
    "    \n",
    "    for blood_type, count in blood_type_counts.items():\n",
    "        if count == 1:\n",
    "            print(f\"There is one patient of blood type {blood_type}.\")\n",
    "        elif count > 1:\n",
    "            print(f\"There are {count} patients of blood type {blood_type}.\")\n",
    "        else:\n",
    "            print(f\"There are no patients of blood type {blood_type}.\")\n",
    "\n",
    "\n"
   ]
  },
  {
   "cell_type": "code",
   "execution_count": null,
   "id": "8bbf8f3b",
   "metadata": {},
   "outputs": [],
   "source": []
  },
  {
   "cell_type": "markdown",
   "id": "beef9b20",
   "metadata": {},
   "source": [
    "# Question8\n",
    "\n",
    "curconv function\n"
   ]
  },
  {
   "cell_type": "code",
   "execution_count": null,
   "id": "46239b7d",
   "metadata": {},
   "outputs": [],
   "source": []
  },
  {
   "cell_type": "markdown",
   "id": "106bdc77",
   "metadata": {},
   "source": [
    "# Question9\n",
    "\n",
    "Type of Errors are:\n"
   ]
  },
  {
   "cell_type": "code",
   "execution_count": null,
   "id": "145ef8ef",
   "metadata": {},
   "outputs": [],
   "source": [
    "1.Type Error //we can not add an integer and string together.\n",
    "2.Index Error //index is out of range\n",
    "3.value Error// this function only get positive value\n",
    "4.Name Error\n",
    "5.File not found Error//IO Error"
   ]
  },
  {
   "cell_type": "markdown",
   "id": "d84dbdd4",
   "metadata": {},
   "source": [
    "# Question10\n",
    "Cryptanalysis"
   ]
  },
  {
   "cell_type": "code",
   "execution_count": 259,
   "id": "3acd04fd",
   "metadata": {},
   "outputs": [
    {
     "name": "stdout",
     "output_type": "stream",
     "text": [
      "[1, 1, 1, 3, 5, 1, 1, 2, 1, 0, 1, 0, 1, 2, 4, 0, 1, 2, 0, 3, 1, 0, 1, 1, 0, 0]\n",
      "[1, 0, 0, 0, 1, 0, 0, 0, 0, 0, 0, 1, 0, 0, 0, 2, 0, 0, 0, 0, 0, 0, 0, 0, 0, 0]\n"
     ]
    }
   ],
   "source": [
    "def frequencies(text):\n",
    "   \n",
    "    letters = 'abcdefghijklmnopqrstuvwxyz'\n",
    "\n",
    "    frequency_list = [0] * 26\n",
    "\n",
    "    text = text.lower()\n",
    "\n",
    "\n",
    "    for char in text:\n",
    "        if char in letters:\n",
    "        \n",
    "            index = letters.index(char)\n",
    "            frequency_list[index] += 1\n",
    "\n",
    "    return frequency_list\n",
    "\n",
    "print(frequencies('The quick red fox got bored and went home.'))\n",
    "print(frequencies('apple'))\n",
    "\n"
   ]
  }
 ],
 "metadata": {
  "kernelspec": {
   "display_name": "Python 3 (ipykernel)",
   "language": "python",
   "name": "python3"
  },
  "language_info": {
   "codemirror_mode": {
    "name": "ipython",
    "version": 3
   },
   "file_extension": ".py",
   "mimetype": "text/x-python",
   "name": "python",
   "nbconvert_exporter": "python",
   "pygments_lexer": "ipython3",
   "version": "3.11.4"
  }
 },
 "nbformat": 4,
 "nbformat_minor": 5
}
